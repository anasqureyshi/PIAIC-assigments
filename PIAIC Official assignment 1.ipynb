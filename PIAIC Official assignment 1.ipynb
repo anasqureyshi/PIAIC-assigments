{
 "cells": [
  {
   "cell_type": "markdown",
   "metadata": {},
   "source": [
    "## 1. Calculate Area of a Circle"
   ]
  },
  {
   "cell_type": "markdown",
   "metadata": {},
   "source": [
    "#### Write a Python program which accepts the radius of a circle from the user and compute the area.\n",
    "###### Program Console Sample Output 1:\n",
    "###### Input Radius: 0.5\n",
    "###### Area of Circle with radius 0.5 is 0.7853981634"
   ]
  },
  {
   "cell_type": "code",
   "execution_count": 5,
   "metadata": {},
   "outputs": [
    {
     "name": "stdout",
     "output_type": "stream",
     "text": [
      "Enter cirlce Radius : 90.5\n",
      "Area of Circle with radius 90.5 is 25717.385000000002\n"
     ]
    }
   ],
   "source": [
    "def radi_calc(radius):\n",
    "    return 3.14 * radius * radius\n",
    "radius = float(input(\"Enter cirlce Radius : \"))\n",
    "print(\"Area of Circle with radius {} is {}\".format(radius, radi_calc(radius)))"
   ]
  },
  {
   "cell_type": "markdown",
   "metadata": {},
   "source": [
    "## 2. Check Number either positive, negative or zero"
   ]
  },
  {
   "cell_type": "markdown",
   "metadata": {},
   "source": [
    "#### Write a Python program to check if a number is positive, negative or zero\n",
    "###### Program Console Sample Output 1:\n",
    "###### Enter Number: -1\n",
    "##### Negative Number Entered\n",
    "###### Program Console Sample Output 2:\n",
    "##### Integer: 3\n",
    "##### Positive Number Entered\n",
    "###### Program Console Sample Output 3:\n",
    "##### Integer: 0\n",
    "###### Zero Entered"
   ]
  },
  {
   "cell_type": "code",
   "execution_count": 2,
   "metadata": {},
   "outputs": [
    {
     "name": "stdout",
     "output_type": "stream",
     "text": [
      "Enter number : -9\n",
      "Negative number Entered\n"
     ]
    }
   ],
   "source": [
    "num = int(input(\"Enter number : \"))\n",
    "if num < 0:\n",
    "    print(\"Negative number Entered\")\n",
    "elif num > 0:\n",
    "    print(\"Positive number Entered\")\n",
    "else:\n",
    "    print(\"Zero Entered\")"
   ]
  },
  {
   "cell_type": "markdown",
   "metadata": {},
   "source": [
    "## 3. Divisibility Check of two numbers"
   ]
  },
  {
   "cell_type": "markdown",
   "metadata": {},
   "source": [
    "#### Write a Python program to check whether a number is completely divisible by another number. Accept two integer values form the user\n",
    "##### Program Console Sample Output 1:\n",
    "###### Enter numerator: 4\n",
    "###### Enter Denominator: 2\n",
    "##### Number 4 is Completely divisible by 2\n",
    "###### Program Console Sample Output 2:\n",
    "##### Enter numerator: 7\n",
    "\n",
    "##### Enter Denominator: 4\n",
    "###### Number 7 is not Completely divisible by 4"
   ]
  },
  {
   "cell_type": "code",
   "execution_count": 4,
   "metadata": {},
   "outputs": [
    {
     "name": "stdout",
     "output_type": "stream",
     "text": [
      "Enter numerator : 14\n",
      "Enter denominator : 5\n",
      "Number 14 isn't divisible by 5\n"
     ]
    }
   ],
   "source": [
    "num1 = int(input(\"Enter numerator : \"))\n",
    "num2 = int(input(\"Enter denominator : \"))\n",
    "if num1 % num2 == 0:\n",
    "    print(\"Number {} is completely divisible by {}\".format(num1, num2))\n",
    "else:\n",
    "    print(\"Number {} isn't divisible by {}\".format(num1, num2))"
   ]
  },
  {
   "cell_type": "markdown",
   "metadata": {},
   "source": [
    "## 4. Calculate Volume of a sphere"
   ]
  },
  {
   "cell_type": "markdown",
   "metadata": {},
   "source": [
    "##### Write a Python program to get the volume of a sphere, please take the radius as input from user"
   ]
  },
  {
   "cell_type": "markdown",
   "metadata": {},
   "source": [
    "##### Program Console Output:\n",
    "##### Enter Radius of Sphere: 1\n",
    "###### Volume of the Sphere with Radius 1 is 4.18"
   ]
  },
  {
   "cell_type": "code",
   "execution_count": 2,
   "metadata": {},
   "outputs": [
    {
     "name": "stdout",
     "output_type": "stream",
     "text": [
      "Enter Radius of sphere : 1\n",
      "Volume of the sphere with radius 1.0 is 4.19\n"
     ]
    }
   ],
   "source": [
    "radius = float(input(\"Enter Radius of sphere : \"))\n",
    "volume_sphere = (4/3) * 3.14 * (radius ** 3)\n",
    "print(\"Volume of the sphere with radius {} is {:.2f}\".format(radius, volume_sphere))"
   ]
  },
  {
   "cell_type": "markdown",
   "metadata": {},
   "source": [
    "## 5. Copy string n times\n",
    "#### Write a Python program to get a string which is n (non-negative integer) copies of a given string.\n",
    "##### Program Console Output:\n",
    "##### Enter String: Hi\n",
    "###### How many copies of String you need: 4\n",
    "###### 4 Copies of Hi are HiHiHiHi"
   ]
  },
  {
   "cell_type": "code",
   "execution_count": 5,
   "metadata": {},
   "outputs": [
    {
     "name": "stdout",
     "output_type": "stream",
     "text": [
      "Enter string : Good\n",
      "How many copies of String you need : 5\n",
      "5 copies of Good are GoodGoodGoodGoodGood\n"
     ]
    }
   ],
   "source": [
    "string = input(\"Enter string : \")\n",
    "number = int(input(\"How many copies of String you need : \"))\n",
    "copies = string * number\n",
    "if number > 0:\n",
    "    print(\"{} copies of {} are {}\".format(number, string, copies))"
   ]
  },
  {
   "cell_type": "markdown",
   "metadata": {},
   "source": [
    "## 6. Check if number is Even or Odd\n",
    "### Write a Python program to find whether a given number (accept from the user) is even or odd, print out an appropriate message to the user\n",
    "#### Program Console Output 1:\n",
    "##### Enter Number: 4\n",
    "###### 4 is Even\n",
    "#### Program Console Output 2:\n",
    "##### Enter Number: 9\n",
    "###### 9 is Odd"
   ]
  },
  {
   "cell_type": "code",
   "execution_count": 9,
   "metadata": {},
   "outputs": [
    {
     "name": "stdout",
     "output_type": "stream",
     "text": [
      "Enter number : 3\n",
      "3 is Odd\n"
     ]
    }
   ],
   "source": [
    "def num_check(n):\n",
    "    \n",
    "    if n % 2 == 0:\n",
    "        print(\"{} is Even\".format(n))\n",
    "    else:\n",
    "        print(\"{} is Odd\".format(n))\n",
    "num = int(input(\"Enter number : \"))\n",
    "num_check(num)"
   ]
  },
  {
   "cell_type": "markdown",
   "metadata": {},
   "source": [
    "## 7. Vowel Tester\n",
    "### Write a Python program to test whether a passed letter is a vowel or not\n",
    "#### Program Console Output 1:\n",
    "##### Enter a character: A\n",
    "###### Letter A is Vowel\n",
    "#### Program Console Output 2:\n",
    "##### Enter a character: e\n",
    "###### Letter e is Vowel\n",
    "#### Program Console Output 2:\n",
    "##### Enter a character: N\n",
    "###### Letter N is not Vowel"
   ]
  },
  {
   "cell_type": "code",
   "execution_count": 3,
   "metadata": {},
   "outputs": [
    {
     "name": "stdout",
     "output_type": "stream",
     "text": [
      "Enter a character : b\n",
      "Letter \"b\" isn't a Vowel\n"
     ]
    }
   ],
   "source": [
    "vowel_input = input(\"Enter a character : \").lower()\n",
    "vowel = [\"a\", \"e\", \"i\", \"o\", \"u\"]\n",
    "if vowel_input in vowel:\n",
    "    print(\"Letter \\\"{}\\\" is Vowel\".format(vowel_input))\n",
    "else:\n",
    "    print(\"Letter \\\"{}\\\" isn't a Vowel\".format(vowel_input))\n"
   ]
  },
  {
   "cell_type": "markdown",
   "metadata": {},
   "source": [
    "## 8. Triangle area\n",
    "### Write a Python program that will accept the base and height of a triangle and compute the area\n",
    "###### Reference:\n",
    "https://www.mathgoodies.com/lessons/vol1/area_triangle"
   ]
  },
  {
   "cell_type": "code",
   "execution_count": 4,
   "metadata": {},
   "outputs": [
    {
     "name": "stdout",
     "output_type": "stream",
     "text": [
      "Enter triangle base : 5.5\n",
      "Enter trainge height : 12.3\n",
      "Area of accordig Triangle is 33.825 according to base 5.5 and height 12.3\n"
     ]
    }
   ],
   "source": [
    "tri_base = float(input(\"Enter triangle base : \"))\n",
    "tri_height = float(input(\"Enter trainge height : \"))\n",
    "area = tri_base * tri_height / 2\n",
    "print(\"Area of accordig Triangle is {} according to base {} and height {}\".format(area, tri_base, tri_height))"
   ]
  },
  {
   "cell_type": "markdown",
   "metadata": {},
   "source": [
    "## 9. Calculate Interest\n",
    "### Write a Python program to compute the future value of a specified principal amount, rate of interest, and a number of years\n",
    "#### Program Console Sample 1:\n",
    "##### Please enter principal amount: 10000\n",
    "###### Please Enter Rate of interest in %: 0.1\n",
    "###### Enter number of years for investment: 5\n",
    "###### After 5 years your principal amount 10000 over an interest rate of 0.1 % will be 16105.1"
   ]
  },
  {
   "cell_type": "code",
   "execution_count": 1,
   "metadata": {},
   "outputs": [
    {
     "name": "stdout",
     "output_type": "stream",
     "text": [
      "Enter principal amount : 10000\n",
      "Enter rate of interest in % : 0.1\n",
      "Enter no of years : 5\n",
      "After 5.0 years your principal amount 10000.0 over an interest rate of 0.1 % will be 16105.1\n"
     ]
    }
   ],
   "source": [
    "prin_amount = float(input(\"Enter principal amount : \"))\n",
    "interest  = float(input(\"Enter rate of interest in % : \"))\n",
    "time = float(input(\"Enter no of years : \"))\n",
    "future_amount = prin_amount * (1 + interest) ** time\n",
    "print(\"After {} years your principal amount {} over an interest rate of {} % will be {:.1f}\".format(time,prin_amount,interest,future_amount))"
   ]
  },
  {
   "cell_type": "markdown",
   "metadata": {},
   "source": [
    "## 10. Euclidean distance\n",
    "### write a Python program to compute the distance between the points (x1, y1) and (x2, y2).\n",
    "#### Program Console Sample 1:\n",
    "###### Enter Co-ordinate for x1: 2\n",
    "###### Enter Co-ordinate for x2: 4\n",
    "###### Enter Co-ordinate for y1: 4\n",
    "###### Enter Co-ordinate for y2: 4\n",
    "###### Distance between points (2, 4) and (4, 4) is 2"
   ]
  },
  {
   "cell_type": "markdown",
   "metadata": {},
   "source": [
    "###### Reference:\n",
    "https://en.wikipedia.org/wiki/Euclidean_distance"
   ]
  },
  {
   "cell_type": "code",
   "execution_count": 4,
   "metadata": {},
   "outputs": [
    {
     "name": "stdout",
     "output_type": "stream",
     "text": [
      "Enter Co-ordinate for x1 : 2\n",
      "Enter Co-ordinate for x2 : 4\n",
      "Enter Co-ordinate for y1 : 4\n",
      "Enter Co-ordinate for y2 : 4\n",
      "Distance between points (2.0,4.0) and (4.0,4.0) is 2.0\n"
     ]
    }
   ],
   "source": [
    "import math\n",
    "x1 = float(input(\"Enter Co-ordinate for x1 : \"))\n",
    "x2 = float(input(\"Enter Co-ordinate for x2 : \"))\n",
    "y1 = float(input(\"Enter Co-ordinate for y1 : \"))\n",
    "y2 = float(input(\"Enter Co-ordinate for y2 : \"))\n",
    "\n",
    "distance = math.sqrt(((y2-y1)**2)+((x2-x1)**2))\n",
    "print(\"Distance between points ({},{}) and ({},{}) is {}\".format(x1,x2,y1,y2,distance))"
   ]
  },
  {
   "cell_type": "markdown",
   "metadata": {},
   "source": [
    "## 11. Feet to Centimeter Converter\n",
    "### Write a Python program to convert height in feet to centimetres.\n",
    "##### Program Console Sample 1:\n",
    "###### Enter Height in Feet: 5\n",
    "###### There are 152.4 Cm in 5 ft\n",
    "###### Reference:\n",
    "https://www.rapidtables.com/convert/length/feet-to-cm.html"
   ]
  },
  {
   "cell_type": "code",
   "execution_count": 9,
   "metadata": {},
   "outputs": [
    {
     "name": "stdout",
     "output_type": "stream",
     "text": [
      "Enter value in feet : 5\n",
      "There are 152.4 cm in 5 ft.\n"
     ]
    }
   ],
   "source": [
    "feet = int(input(\"Enter value in feet : \"))\n",
    "if feet > 0:\n",
    "    print(\"There are {} cm in {} ft.\".format(feet * 30.48, feet))"
   ]
  },
  {
   "cell_type": "markdown",
   "metadata": {},
   "source": [
    "## 12. BMI Calculator\n",
    "### Write a Python program to calculate body mass index\n",
    "##### Program Console Sample 1:\n",
    "###### Enter Height in Cm: 180\n",
    "###### Enter Weight in Kg: 75\n",
    "###### Your BMI is 23.15"
   ]
  },
  {
   "cell_type": "code",
   "execution_count": 1,
   "metadata": {},
   "outputs": [
    {
     "name": "stdout",
     "output_type": "stream",
     "text": [
      "Enter height in cm : 180\n",
      "Enter weight in kg : 75\n",
      "Your BMI is 23.15\n"
     ]
    }
   ],
   "source": [
    "height = int(input(\"Enter height in cm : \"))\n",
    "weight = int(input(\"Enter weight in kg : \"))\n",
    "bmi = weight / (height ** 2) *10000\n",
    "print(\"Your BMI is {:.2f}\".format(bmi))"
   ]
  },
  {
   "cell_type": "markdown",
   "metadata": {},
   "source": [
    "## 13. Sum of n Positive Integers\n",
    "### Write a python program to sum of the first n positive integers\n",
    "#### Program Console Sample 1:\n",
    "###### Enter value of n: 5\n",
    "###### Sum of n Positive integers till 5 is 15"
   ]
  },
  {
   "cell_type": "code",
   "execution_count": 5,
   "metadata": {},
   "outputs": [
    {
     "name": "stdout",
     "output_type": "stream",
     "text": [
      "Enter number : 8\n",
      "Sum of n Positive integers till 8 is 36\n"
     ]
    }
   ],
   "source": [
    "num = int(input(\"Enter number : \"))\n",
    "summ = 0\n",
    "if num > 0:\n",
    "    for x in range(1, num + 1):\n",
    "        summ += x\n",
    "    print(\"Sum of n Positive integers till {} is {}\".format(num, summ))\n",
    "else:\n",
    "    print(\"Enter positive value !\")\n",
    "    "
   ]
  },
  {
   "cell_type": "markdown",
   "metadata": {},
   "source": [
    "## 14. Digits Sum of a Number\n",
    "### Write a Python program to calculate the sum of the digits in an integer\n",
    "#### Program Console Sample 1:\n",
    "##### Enter a number: 15\n",
    "###### Sum of 1 + 5 is 6\n",
    "#### Program Console Sample 2:\n",
    "##### Enter a number: 1234\n",
    "###### Sum of 1 + 2 + 3 + 4 is 10"
   ]
  },
  {
   "cell_type": "code",
   "execution_count": 6,
   "metadata": {},
   "outputs": [
    {
     "name": "stdout",
     "output_type": "stream",
     "text": [
      "Enter number : 1234\n",
      "Sum of + 1 + 2 + 3 + 4 is 10\n"
     ]
    }
   ],
   "source": [
    "num = input(\"Enter number : \")\n",
    "num_list = list(num)\n",
    "sum_num = 0\n",
    "print(\"Sum of\",end = \"\")\n",
    "for x in range(len(num_list)):\n",
    "    sum_num += int(num_list[x])\n",
    "    print(\" +\", num_list[x], end = \"\")\n",
    "    \n",
    "print(\" is\",sum_num)"
   ]
  }
 ],
 "metadata": {
  "kernelspec": {
   "display_name": "Python 3",
   "language": "python",
   "name": "python3"
  },
  "language_info": {
   "codemirror_mode": {
    "name": "ipython",
    "version": 3
   },
   "file_extension": ".py",
   "mimetype": "text/x-python",
   "name": "python",
   "nbconvert_exporter": "python",
   "pygments_lexer": "ipython3",
   "version": "3.7.3"
  }
 },
 "nbformat": 4,
 "nbformat_minor": 2
}
